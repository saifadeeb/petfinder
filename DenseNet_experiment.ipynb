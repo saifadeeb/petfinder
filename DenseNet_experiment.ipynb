{
 "cells": [
  {
   "cell_type": "code",
   "execution_count": 1,
   "metadata": {},
   "outputs": [],
   "source": [
    "import cv2\n",
    "import pandas as pd\n",
    "import numpy as np\n",
    "import os\n",
    "from tqdm import tqdm, tqdm_notebook\n",
    "\n",
    "train_df = pd.read_csv('train.csv')\n",
    "img_size = 256\n",
    "batch_size = 16"
   ]
  },
  {
   "cell_type": "code",
   "execution_count": 2,
   "metadata": {},
   "outputs": [],
   "source": [
    "pet_ids = train_df['PetID'].values\n",
    "n_batches = len(pet_ids) // batch_size + 1"
   ]
  },
  {
   "cell_type": "code",
   "execution_count": 3,
   "metadata": {},
   "outputs": [],
   "source": [
    "from tensorflow.keras.applications.densenet import preprocess_input, DenseNet121"
   ]
  },
  {
   "cell_type": "code",
   "execution_count": 34,
   "metadata": {},
   "outputs": [],
   "source": [
    "def resize_to_square(im):\n",
    "    old_size = im.shape[:2] # old_size is in (height, width) format\n",
    "    ratio = float(img_size)/max(old_size)\n",
    "    new_size = tuple([int(x*ratio) for x in old_size])\n",
    "    # new_size should be in (width, height) format\n",
    "    im = cv2.resize(im, (new_size[1], new_size[0]))\n",
    "    delta_w = img_size - new_size[1]\n",
    "    delta_h = img_size - new_size[0]\n",
    "    top, bottom = delta_h//2, delta_h-(delta_h//2)\n",
    "    left, right = delta_w//2, delta_w-(delta_w//2)\n",
    "    color = [0, 0, 0]\n",
    "    new_im = cv2.copyMakeBorder(im, top, bottom, left, right, cv2.BORDER_CONSTANT,value=color)\n",
    "    return new_im\n",
    "\n",
    "def load_image(path, pet_id):\n",
    "    image = cv2.imread(f'{path}{pet_id}-1.jpg')\n",
    "    new_image = resize_to_square(image)\n",
    "    new_image = preprocess_input(new_image)\n",
    "    return new_image\n",
    "\n",
    "def get_features(df, folder, batch_size = 16):\n",
    "    \n",
    "    pet_ids = df['PetID'].values\n",
    "    n_batches = len(pet_ids) // batch_size + 1\n",
    "\n",
    "    features = {}\n",
    "    for b in tqdm_notebook(range(n_batches)):\n",
    "        start = b*batch_size\n",
    "        end = (b+1)*batch_size\n",
    "        batch_pets = pet_ids[start:end]\n",
    "        batch_images = np.zeros((len(batch_pets),img_size,img_size,3))\n",
    "        for i,pet_id in enumerate(batch_pets):\n",
    "            try:\n",
    "                batch_images[i] = load_image(\"{}/\".format(folder), pet_id)\n",
    "            except:\n",
    "                pass\n",
    "        batch_preds = m.predict(batch_images)\n",
    "        for i,pet_id in enumerate(batch_pets):\n",
    "            features[pet_id] = batch_preds[i]\n",
    "    return features"
   ]
  },
  {
   "cell_type": "code",
   "execution_count": 5,
   "metadata": {},
   "outputs": [
    {
     "name": "stdout",
     "output_type": "stream",
     "text": [
      "WARNING:tensorflow:From c:\\users\\sadeeb\\anaconda3\\envs\\testing\\lib\\site-packages\\tensorflow\\python\\ops\\resource_variable_ops.py:435: colocate_with (from tensorflow.python.framework.ops) is deprecated and will be removed in a future version.\n",
      "Instructions for updating:\n",
      "Colocations handled automatically by placer.\n"
     ]
    }
   ],
   "source": [
    "from tensorflow.keras.models import Model\n",
    "from tensorflow.keras.layers import GlobalAveragePooling2D, Input, Lambda, AveragePooling1D\n",
    "import tensorflow.keras.backend as K\n",
    "\n",
    "inp = Input((256,256,3))\n",
    "backbone = DenseNet121(input_tensor = inp, include_top = False)\n",
    "x = backbone.output\n",
    "x = GlobalAveragePooling2D()(x)\n",
    "x = Lambda(lambda x: K.expand_dims(x,axis = -1))(x)\n",
    "x = AveragePooling1D(4)(x)\n",
    "out = Lambda(lambda x: x[:,:,0])(x)\n",
    "\n",
    "m = Model(inp,out)"
   ]
  },
  {
   "cell_type": "code",
   "execution_count": 39,
   "metadata": {},
   "outputs": [
    {
     "data": {
      "application/vnd.jupyter.widget-view+json": {
       "model_id": "79ca187dba094e78a82fa7cc8484ecff",
       "version_major": 2,
       "version_minor": 0
      },
      "text/plain": [
       "HBox(children=(IntProgress(value=0, max=938), HTML(value='')))"
      ]
     },
     "metadata": {},
     "output_type": "display_data"
    }
   ],
   "source": [
    "train_features = get_features(train_df, \"train_images\")"
   ]
  },
  {
   "cell_type": "code",
   "execution_count": 6,
   "metadata": {},
   "outputs": [
    {
     "data": {
      "application/vnd.jupyter.widget-view+json": {
       "model_id": "5877a0b855324d12a16fbc6ad09b59f3",
       "version_major": 2,
       "version_minor": 0
      },
      "text/plain": [
       "HBox(children=(IntProgress(value=0, max=938), HTML(value='')))"
      ]
     },
     "metadata": {},
     "output_type": "display_data"
    },
    {
     "name": "stdout",
     "output_type": "stream",
     "text": [
      "\n"
     ]
    }
   ],
   "source": [
    "# features = {}\n",
    "# for b in tqdm_notebook(range(n_batches)):\n",
    "#     start = b*batch_size\n",
    "#     end = (b+1)*batch_size\n",
    "#     batch_pets = pet_ids[start:end]\n",
    "#     batch_images = np.zeros((len(batch_pets),img_size,img_size,3))\n",
    "#     for i,pet_id in enumerate(batch_pets):\n",
    "#         try:\n",
    "#             batch_images[i] = load_image(\"train_images/\", pet_id)\n",
    "#         except:\n",
    "#             pass\n",
    "#     batch_preds = m.predict(batch_images)\n",
    "#     for i,pet_id in enumerate(batch_pets):\n",
    "#         features[pet_id] = batch_preds[i]"
   ]
  },
  {
   "cell_type": "code",
   "execution_count": 40,
   "metadata": {},
   "outputs": [],
   "source": [
    "train_feats = pd.DataFrame.from_dict(train_features, orient='index')"
   ]
  },
  {
   "cell_type": "code",
   "execution_count": 41,
   "metadata": {},
   "outputs": [],
   "source": [
    "for cols in train_feats.columns.tolist():\n",
    "    new_cols = 'img_feature_'+ str(cols)\n",
    "    train_feats = train_feats.rename({cols: new_cols}, axis=1)"
   ]
  },
  {
   "cell_type": "code",
   "execution_count": 11,
   "metadata": {},
   "outputs": [
    {
     "name": "stdout",
     "output_type": "stream",
     "text": [
      "(14993, 24)\n",
      "(14993, 256)\n"
     ]
    }
   ],
   "source": [
    "print(train_df.shape)\n",
    "print(train_feats.shape)"
   ]
  },
  {
   "cell_type": "code",
   "execution_count": 42,
   "metadata": {},
   "outputs": [
    {
     "data": {
      "text/html": [
       "<div>\n",
       "<style scoped>\n",
       "    .dataframe tbody tr th:only-of-type {\n",
       "        vertical-align: middle;\n",
       "    }\n",
       "\n",
       "    .dataframe tbody tr th {\n",
       "        vertical-align: top;\n",
       "    }\n",
       "\n",
       "    .dataframe thead th {\n",
       "        text-align: right;\n",
       "    }\n",
       "</style>\n",
       "<table border=\"1\" class=\"dataframe\">\n",
       "  <thead>\n",
       "    <tr style=\"text-align: right;\">\n",
       "      <th></th>\n",
       "      <th>PetID</th>\n",
       "      <th>img_feature_0</th>\n",
       "      <th>img_feature_1</th>\n",
       "      <th>img_feature_2</th>\n",
       "      <th>img_feature_3</th>\n",
       "      <th>img_feature_4</th>\n",
       "      <th>img_feature_5</th>\n",
       "      <th>img_feature_6</th>\n",
       "      <th>img_feature_7</th>\n",
       "      <th>img_feature_8</th>\n",
       "      <th>...</th>\n",
       "      <th>img_feature_246</th>\n",
       "      <th>img_feature_247</th>\n",
       "      <th>img_feature_248</th>\n",
       "      <th>img_feature_249</th>\n",
       "      <th>img_feature_250</th>\n",
       "      <th>img_feature_251</th>\n",
       "      <th>img_feature_252</th>\n",
       "      <th>img_feature_253</th>\n",
       "      <th>img_feature_254</th>\n",
       "      <th>img_feature_255</th>\n",
       "    </tr>\n",
       "  </thead>\n",
       "  <tbody>\n",
       "    <tr>\n",
       "      <th>0</th>\n",
       "      <td>86e1089a3</td>\n",
       "      <td>0.002000</td>\n",
       "      <td>0.167800</td>\n",
       "      <td>0.019715</td>\n",
       "      <td>0.015896</td>\n",
       "      <td>0.068162</td>\n",
       "      <td>0.002216</td>\n",
       "      <td>0.005042</td>\n",
       "      <td>0.004828</td>\n",
       "      <td>0.050760</td>\n",
       "      <td>...</td>\n",
       "      <td>0.787699</td>\n",
       "      <td>0.176626</td>\n",
       "      <td>0.575706</td>\n",
       "      <td>1.088629</td>\n",
       "      <td>0.439556</td>\n",
       "      <td>0.520460</td>\n",
       "      <td>1.547071</td>\n",
       "      <td>0.832572</td>\n",
       "      <td>0.599094</td>\n",
       "      <td>0.763348</td>\n",
       "    </tr>\n",
       "    <tr>\n",
       "      <th>1</th>\n",
       "      <td>6296e909a</td>\n",
       "      <td>0.002858</td>\n",
       "      <td>0.107450</td>\n",
       "      <td>0.019916</td>\n",
       "      <td>0.023482</td>\n",
       "      <td>0.174765</td>\n",
       "      <td>0.002297</td>\n",
       "      <td>0.005031</td>\n",
       "      <td>0.006338</td>\n",
       "      <td>0.083378</td>\n",
       "      <td>...</td>\n",
       "      <td>0.628259</td>\n",
       "      <td>0.686865</td>\n",
       "      <td>0.564000</td>\n",
       "      <td>0.968190</td>\n",
       "      <td>1.070276</td>\n",
       "      <td>1.545741</td>\n",
       "      <td>0.894410</td>\n",
       "      <td>0.838596</td>\n",
       "      <td>0.468237</td>\n",
       "      <td>0.916672</td>\n",
       "    </tr>\n",
       "    <tr>\n",
       "      <th>2</th>\n",
       "      <td>3422e4906</td>\n",
       "      <td>0.002734</td>\n",
       "      <td>0.072015</td>\n",
       "      <td>0.024455</td>\n",
       "      <td>0.018021</td>\n",
       "      <td>0.154207</td>\n",
       "      <td>0.001946</td>\n",
       "      <td>0.004211</td>\n",
       "      <td>0.001576</td>\n",
       "      <td>0.100046</td>\n",
       "      <td>...</td>\n",
       "      <td>0.579115</td>\n",
       "      <td>0.557625</td>\n",
       "      <td>1.131405</td>\n",
       "      <td>0.720513</td>\n",
       "      <td>1.496670</td>\n",
       "      <td>0.870955</td>\n",
       "      <td>1.289682</td>\n",
       "      <td>1.184461</td>\n",
       "      <td>0.465113</td>\n",
       "      <td>0.892827</td>\n",
       "    </tr>\n",
       "    <tr>\n",
       "      <th>3</th>\n",
       "      <td>5842f1ff5</td>\n",
       "      <td>0.002106</td>\n",
       "      <td>0.274519</td>\n",
       "      <td>0.054815</td>\n",
       "      <td>0.013727</td>\n",
       "      <td>0.089969</td>\n",
       "      <td>0.001650</td>\n",
       "      <td>0.005506</td>\n",
       "      <td>0.004295</td>\n",
       "      <td>0.118727</td>\n",
       "      <td>...</td>\n",
       "      <td>1.295853</td>\n",
       "      <td>0.326144</td>\n",
       "      <td>0.291669</td>\n",
       "      <td>1.608087</td>\n",
       "      <td>1.119176</td>\n",
       "      <td>1.470888</td>\n",
       "      <td>0.591445</td>\n",
       "      <td>0.832754</td>\n",
       "      <td>0.483021</td>\n",
       "      <td>1.134127</td>\n",
       "    </tr>\n",
       "    <tr>\n",
       "      <th>4</th>\n",
       "      <td>850a43f90</td>\n",
       "      <td>0.002185</td>\n",
       "      <td>0.174022</td>\n",
       "      <td>0.044818</td>\n",
       "      <td>0.016244</td>\n",
       "      <td>0.169775</td>\n",
       "      <td>0.002075</td>\n",
       "      <td>0.004421</td>\n",
       "      <td>0.004157</td>\n",
       "      <td>0.099671</td>\n",
       "      <td>...</td>\n",
       "      <td>1.092663</td>\n",
       "      <td>0.669894</td>\n",
       "      <td>0.395784</td>\n",
       "      <td>0.886075</td>\n",
       "      <td>1.219730</td>\n",
       "      <td>1.033965</td>\n",
       "      <td>1.065686</td>\n",
       "      <td>0.304054</td>\n",
       "      <td>0.438069</td>\n",
       "      <td>0.676818</td>\n",
       "    </tr>\n",
       "  </tbody>\n",
       "</table>\n",
       "<p>5 rows × 257 columns</p>\n",
       "</div>"
      ],
      "text/plain": [
       "       PetID  img_feature_0  img_feature_1  img_feature_2  img_feature_3  \\\n",
       "0  86e1089a3       0.002000       0.167800       0.019715       0.015896   \n",
       "1  6296e909a       0.002858       0.107450       0.019916       0.023482   \n",
       "2  3422e4906       0.002734       0.072015       0.024455       0.018021   \n",
       "3  5842f1ff5       0.002106       0.274519       0.054815       0.013727   \n",
       "4  850a43f90       0.002185       0.174022       0.044818       0.016244   \n",
       "\n",
       "   img_feature_4  img_feature_5  img_feature_6  img_feature_7  img_feature_8  \\\n",
       "0       0.068162       0.002216       0.005042       0.004828       0.050760   \n",
       "1       0.174765       0.002297       0.005031       0.006338       0.083378   \n",
       "2       0.154207       0.001946       0.004211       0.001576       0.100046   \n",
       "3       0.089969       0.001650       0.005506       0.004295       0.118727   \n",
       "4       0.169775       0.002075       0.004421       0.004157       0.099671   \n",
       "\n",
       "   ...  img_feature_246  img_feature_247  img_feature_248  img_feature_249  \\\n",
       "0  ...         0.787699         0.176626         0.575706         1.088629   \n",
       "1  ...         0.628259         0.686865         0.564000         0.968190   \n",
       "2  ...         0.579115         0.557625         1.131405         0.720513   \n",
       "3  ...         1.295853         0.326144         0.291669         1.608087   \n",
       "4  ...         1.092663         0.669894         0.395784         0.886075   \n",
       "\n",
       "   img_feature_250  img_feature_251  img_feature_252  img_feature_253  \\\n",
       "0         0.439556         0.520460         1.547071         0.832572   \n",
       "1         1.070276         1.545741         0.894410         0.838596   \n",
       "2         1.496670         0.870955         1.289682         1.184461   \n",
       "3         1.119176         1.470888         0.591445         0.832754   \n",
       "4         1.219730         1.033965         1.065686         0.304054   \n",
       "\n",
       "   img_feature_254  img_feature_255  \n",
       "0         0.599094         0.763348  \n",
       "1         0.468237         0.916672  \n",
       "2         0.465113         0.892827  \n",
       "3         0.483021         1.134127  \n",
       "4         0.438069         0.676818  \n",
       "\n",
       "[5 rows x 257 columns]"
      ]
     },
     "execution_count": 42,
     "metadata": {},
     "output_type": "execute_result"
    }
   ],
   "source": [
    "train_feats = train_feats.reset_index().rename({'index':'PetID'}, axis = 1)\n",
    "train_feats.to_csv('train_img_features.csv', index=False)\n",
    "train_feats.head()"
   ]
  },
  {
   "cell_type": "code",
   "execution_count": 14,
   "metadata": {},
   "outputs": [],
   "source": [
    "test_df = pd.read_csv('test/test.csv')"
   ]
  },
  {
   "cell_type": "code",
   "execution_count": 15,
   "metadata": {},
   "outputs": [],
   "source": [
    "# pet_ids = test_df['PetID'].values\n",
    "# n_batches = len(pet_ids) // batch_size + 1"
   ]
  },
  {
   "cell_type": "code",
   "execution_count": 35,
   "metadata": {},
   "outputs": [
    {
     "data": {
      "application/vnd.jupyter.widget-view+json": {
       "model_id": "9a37f03772e04bd5a83228bf2a5be47f",
       "version_major": 2,
       "version_minor": 0
      },
      "text/plain": [
       "HBox(children=(IntProgress(value=0, max=247), HTML(value='')))"
      ]
     },
     "metadata": {},
     "output_type": "display_data"
    }
   ],
   "source": [
    "test_features = get_features(test_df, \"test_images\")"
   ]
  },
  {
   "cell_type": "code",
   "execution_count": 16,
   "metadata": {},
   "outputs": [
    {
     "data": {
      "application/vnd.jupyter.widget-view+json": {
       "model_id": "8547414d5ea349ce8bb6dcda0bc97730",
       "version_major": 2,
       "version_minor": 0
      },
      "text/plain": [
       "HBox(children=(IntProgress(value=0, max=247), HTML(value='')))"
      ]
     },
     "metadata": {},
     "output_type": "display_data"
    },
    {
     "name": "stdout",
     "output_type": "stream",
     "text": [
      "\n"
     ]
    }
   ],
   "source": [
    "# features = {}\n",
    "# for b in tqdm_notebook(range(n_batches)):\n",
    "#     start = b*batch_size\n",
    "#     end = (b+1)*batch_size\n",
    "#     batch_pets = pet_ids[start:end]\n",
    "#     batch_images = np.zeros((len(batch_pets),img_size,img_size,3))\n",
    "#     for i,pet_id in enumerate(batch_pets):\n",
    "#         try:\n",
    "#             batch_images[i] = load_image(\"test_images/\", pet_id)\n",
    "#         except:\n",
    "#             pass\n",
    "#     batch_preds = m.predict(batch_images)\n",
    "#     for i,pet_id in enumerate(batch_pets):\n",
    "#         features[pet_id] = batch_preds[i]"
   ]
  },
  {
   "cell_type": "code",
   "execution_count": 36,
   "metadata": {},
   "outputs": [],
   "source": [
    "test_feats = pd.DataFrame.from_dict(test_features, orient='index')"
   ]
  },
  {
   "cell_type": "code",
   "execution_count": 37,
   "metadata": {},
   "outputs": [],
   "source": [
    "for cols in test_feats.columns.tolist():\n",
    "    new_cols = 'img_feature_'+ str(cols)\n",
    "    test_feats = test_feats.rename({cols: new_cols}, axis=1)"
   ]
  },
  {
   "cell_type": "code",
   "execution_count": 38,
   "metadata": {
    "scrolled": true
   },
   "outputs": [
    {
     "data": {
      "text/html": [
       "<div>\n",
       "<style scoped>\n",
       "    .dataframe tbody tr th:only-of-type {\n",
       "        vertical-align: middle;\n",
       "    }\n",
       "\n",
       "    .dataframe tbody tr th {\n",
       "        vertical-align: top;\n",
       "    }\n",
       "\n",
       "    .dataframe thead th {\n",
       "        text-align: right;\n",
       "    }\n",
       "</style>\n",
       "<table border=\"1\" class=\"dataframe\">\n",
       "  <thead>\n",
       "    <tr style=\"text-align: right;\">\n",
       "      <th></th>\n",
       "      <th>PetID</th>\n",
       "      <th>img_feature_0</th>\n",
       "      <th>img_feature_1</th>\n",
       "      <th>img_feature_2</th>\n",
       "      <th>img_feature_3</th>\n",
       "      <th>img_feature_4</th>\n",
       "      <th>img_feature_5</th>\n",
       "      <th>img_feature_6</th>\n",
       "      <th>img_feature_7</th>\n",
       "      <th>img_feature_8</th>\n",
       "      <th>...</th>\n",
       "      <th>img_feature_246</th>\n",
       "      <th>img_feature_247</th>\n",
       "      <th>img_feature_248</th>\n",
       "      <th>img_feature_249</th>\n",
       "      <th>img_feature_250</th>\n",
       "      <th>img_feature_251</th>\n",
       "      <th>img_feature_252</th>\n",
       "      <th>img_feature_253</th>\n",
       "      <th>img_feature_254</th>\n",
       "      <th>img_feature_255</th>\n",
       "    </tr>\n",
       "  </thead>\n",
       "  <tbody>\n",
       "    <tr>\n",
       "      <th>0</th>\n",
       "      <td>378fcc4fc</td>\n",
       "      <td>0.001806</td>\n",
       "      <td>0.117852</td>\n",
       "      <td>0.042729</td>\n",
       "      <td>0.015670</td>\n",
       "      <td>0.081283</td>\n",
       "      <td>0.002821</td>\n",
       "      <td>0.004229</td>\n",
       "      <td>0.005075</td>\n",
       "      <td>0.065772</td>\n",
       "      <td>...</td>\n",
       "      <td>1.029824</td>\n",
       "      <td>1.142765</td>\n",
       "      <td>0.314542</td>\n",
       "      <td>1.055707</td>\n",
       "      <td>0.500093</td>\n",
       "      <td>0.704220</td>\n",
       "      <td>0.981930</td>\n",
       "      <td>0.408823</td>\n",
       "      <td>0.197140</td>\n",
       "      <td>1.360667</td>\n",
       "    </tr>\n",
       "    <tr>\n",
       "      <th>1</th>\n",
       "      <td>73c10e136</td>\n",
       "      <td>0.002083</td>\n",
       "      <td>0.112052</td>\n",
       "      <td>0.049380</td>\n",
       "      <td>0.017084</td>\n",
       "      <td>0.066333</td>\n",
       "      <td>0.002041</td>\n",
       "      <td>0.004310</td>\n",
       "      <td>0.005714</td>\n",
       "      <td>0.060310</td>\n",
       "      <td>...</td>\n",
       "      <td>1.325531</td>\n",
       "      <td>0.269746</td>\n",
       "      <td>0.795547</td>\n",
       "      <td>1.333989</td>\n",
       "      <td>0.285445</td>\n",
       "      <td>0.615942</td>\n",
       "      <td>1.539221</td>\n",
       "      <td>0.348188</td>\n",
       "      <td>0.516552</td>\n",
       "      <td>0.450889</td>\n",
       "    </tr>\n",
       "    <tr>\n",
       "      <th>2</th>\n",
       "      <td>72000c4c5</td>\n",
       "      <td>0.002462</td>\n",
       "      <td>0.133409</td>\n",
       "      <td>0.054052</td>\n",
       "      <td>0.008190</td>\n",
       "      <td>0.078125</td>\n",
       "      <td>0.002364</td>\n",
       "      <td>0.005102</td>\n",
       "      <td>0.007390</td>\n",
       "      <td>0.043697</td>\n",
       "      <td>...</td>\n",
       "      <td>0.582577</td>\n",
       "      <td>0.207661</td>\n",
       "      <td>0.863859</td>\n",
       "      <td>2.020501</td>\n",
       "      <td>0.923310</td>\n",
       "      <td>1.194252</td>\n",
       "      <td>1.401715</td>\n",
       "      <td>0.494200</td>\n",
       "      <td>1.467094</td>\n",
       "      <td>1.246928</td>\n",
       "    </tr>\n",
       "    <tr>\n",
       "      <th>3</th>\n",
       "      <td>e147a4b9f</td>\n",
       "      <td>0.002349</td>\n",
       "      <td>0.133167</td>\n",
       "      <td>0.049585</td>\n",
       "      <td>0.020017</td>\n",
       "      <td>0.135033</td>\n",
       "      <td>0.001816</td>\n",
       "      <td>0.009131</td>\n",
       "      <td>0.004642</td>\n",
       "      <td>0.099958</td>\n",
       "      <td>...</td>\n",
       "      <td>0.975655</td>\n",
       "      <td>0.270012</td>\n",
       "      <td>0.318352</td>\n",
       "      <td>1.500878</td>\n",
       "      <td>1.101671</td>\n",
       "      <td>1.693731</td>\n",
       "      <td>1.464350</td>\n",
       "      <td>0.509028</td>\n",
       "      <td>1.214401</td>\n",
       "      <td>1.065798</td>\n",
       "    </tr>\n",
       "    <tr>\n",
       "      <th>4</th>\n",
       "      <td>43fbba852</td>\n",
       "      <td>0.002491</td>\n",
       "      <td>0.139229</td>\n",
       "      <td>0.033050</td>\n",
       "      <td>0.012187</td>\n",
       "      <td>0.096443</td>\n",
       "      <td>0.002061</td>\n",
       "      <td>0.004109</td>\n",
       "      <td>0.002650</td>\n",
       "      <td>0.075938</td>\n",
       "      <td>...</td>\n",
       "      <td>1.402405</td>\n",
       "      <td>0.596918</td>\n",
       "      <td>0.205048</td>\n",
       "      <td>1.249530</td>\n",
       "      <td>2.450217</td>\n",
       "      <td>2.003505</td>\n",
       "      <td>1.547028</td>\n",
       "      <td>0.728920</td>\n",
       "      <td>0.664124</td>\n",
       "      <td>0.500689</td>\n",
       "    </tr>\n",
       "  </tbody>\n",
       "</table>\n",
       "<p>5 rows × 257 columns</p>\n",
       "</div>"
      ],
      "text/plain": [
       "       PetID  img_feature_0  img_feature_1  img_feature_2  img_feature_3  \\\n",
       "0  378fcc4fc       0.001806       0.117852       0.042729       0.015670   \n",
       "1  73c10e136       0.002083       0.112052       0.049380       0.017084   \n",
       "2  72000c4c5       0.002462       0.133409       0.054052       0.008190   \n",
       "3  e147a4b9f       0.002349       0.133167       0.049585       0.020017   \n",
       "4  43fbba852       0.002491       0.139229       0.033050       0.012187   \n",
       "\n",
       "   img_feature_4  img_feature_5  img_feature_6  img_feature_7  img_feature_8  \\\n",
       "0       0.081283       0.002821       0.004229       0.005075       0.065772   \n",
       "1       0.066333       0.002041       0.004310       0.005714       0.060310   \n",
       "2       0.078125       0.002364       0.005102       0.007390       0.043697   \n",
       "3       0.135033       0.001816       0.009131       0.004642       0.099958   \n",
       "4       0.096443       0.002061       0.004109       0.002650       0.075938   \n",
       "\n",
       "   ...  img_feature_246  img_feature_247  img_feature_248  img_feature_249  \\\n",
       "0  ...         1.029824         1.142765         0.314542         1.055707   \n",
       "1  ...         1.325531         0.269746         0.795547         1.333989   \n",
       "2  ...         0.582577         0.207661         0.863859         2.020501   \n",
       "3  ...         0.975655         0.270012         0.318352         1.500878   \n",
       "4  ...         1.402405         0.596918         0.205048         1.249530   \n",
       "\n",
       "   img_feature_250  img_feature_251  img_feature_252  img_feature_253  \\\n",
       "0         0.500093         0.704220         0.981930         0.408823   \n",
       "1         0.285445         0.615942         1.539221         0.348188   \n",
       "2         0.923310         1.194252         1.401715         0.494200   \n",
       "3         1.101671         1.693731         1.464350         0.509028   \n",
       "4         2.450217         2.003505         1.547028         0.728920   \n",
       "\n",
       "   img_feature_254  img_feature_255  \n",
       "0         0.197140         1.360667  \n",
       "1         0.516552         0.450889  \n",
       "2         1.467094         1.246928  \n",
       "3         1.214401         1.065798  \n",
       "4         0.664124         0.500689  \n",
       "\n",
       "[5 rows x 257 columns]"
      ]
     },
     "execution_count": 38,
     "metadata": {},
     "output_type": "execute_result"
    }
   ],
   "source": [
    "test_feats = test_feats.reset_index().rename({'index':'PetID'}, axis = 1)\n",
    "test_feats.to_csv('test_img_features.csv', index=False)\n",
    "test_feats.head()"
   ]
  },
  {
   "cell_type": "code",
   "execution_count": 31,
   "metadata": {},
   "outputs": [
    {
     "data": {
      "text/plain": [
       "'e5bbe3e54'"
      ]
     },
     "execution_count": 31,
     "metadata": {},
     "output_type": "execute_result"
    }
   ],
   "source": [
    "pet_id"
   ]
  },
  {
   "cell_type": "code",
   "execution_count": null,
   "metadata": {},
   "outputs": [],
   "source": []
  }
 ],
 "metadata": {
  "kernelspec": {
   "display_name": "Python 3",
   "language": "python",
   "name": "python3"
  },
  "language_info": {
   "codemirror_mode": {
    "name": "ipython",
    "version": 3
   },
   "file_extension": ".py",
   "mimetype": "text/x-python",
   "name": "python",
   "nbconvert_exporter": "python",
   "pygments_lexer": "ipython3",
   "version": "3.7.3"
  }
 },
 "nbformat": 4,
 "nbformat_minor": 2
}
